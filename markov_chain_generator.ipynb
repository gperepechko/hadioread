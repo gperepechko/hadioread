{
 "cells": [
  {
   "attachments": {},
   "cell_type": "markdown",
   "id": "c877b504",
   "metadata": {},
   "source": [
    "# Generating lyrics with Markov Chains\n",
    "**by gperepechko**"
   ]
  },
  {
   "cell_type": "code",
   "execution_count": 1,
   "id": "071b7d49",
   "metadata": {
    "scrolled": true
   },
   "outputs": [
    {
     "name": "stderr",
     "output_type": "stream",
     "text": [
      "/usr/local/lib/python3.9/site-packages/tqdm/auto.py:22: TqdmWarning: IProgress not found. Please update jupyter and ipywidgets. See https://ipywidgets.readthedocs.io/en/stable/user_install.html\n",
      "  from .autonotebook import tqdm as notebook_tqdm\n",
      "Found cached dataset radiohead (/Users/stimorol/.cache/huggingface/datasets/huggingartists___radiohead/default/1.0.0/d37c36412fe443a2baba285a9d3ab4e8e4df79db8feb93b2f775c3dacfeca9eb)\n",
      "100%|█████████████████████████████████████████████| 1/1 [00:00<00:00, 15.40it/s]\n"
     ]
    }
   ],
   "source": [
    "from datasets import load_dataset\n",
    "dataset = load_dataset(\"huggingartists/radiohead\")"
   ]
  },
  {
   "cell_type": "code",
   "execution_count": 2,
   "id": "c926190d",
   "metadata": {},
   "outputs": [
    {
     "data": {
      "text/plain": [
       "DatasetDict({\n",
       "    train: Dataset({\n",
       "        features: ['text'],\n",
       "        num_rows: 505\n",
       "    })\n",
       "})"
      ]
     },
     "execution_count": 2,
     "metadata": {},
     "output_type": "execute_result"
    }
   ],
   "source": [
    "dataset"
   ]
  },
  {
   "cell_type": "code",
   "execution_count": 3,
   "id": "a2d28fe7",
   "metadata": {},
   "outputs": [
    {
     "data": {
      "text/plain": [
       "['Karma police, arrest this man',\n",
       " 'He talks in maths, he buzzes like a fridge',\n",
       " 'Hes like a detuned radio',\n",
       " 'Karma police, arrest this girl',\n",
       " 'Her Hitler hairdo is making me feel ill',\n",
       " 'And we have crashed her party',\n",
       " 'This is what youll get',\n",
       " 'This is what youll get',\n",
       " 'This is what youll get',\n",
       " 'When you mess with us',\n",
       " 'Karma police, Ive given all I can',\n",
       " 'Its not enough, Ive given all I can',\n",
       " 'But were still on the payroll',\n",
       " 'This is what youll get',\n",
       " 'This is what youll get',\n",
       " 'This is what youll get',\n",
       " 'When you mess with us',\n",
       " 'For a minute there',\n",
       " 'I lost myself, I lost myself',\n",
       " 'Phew, for a minute there',\n",
       " 'I lost myself, I lost myself',\n",
       " 'For a minute there',\n",
       " 'I lost myself, I lost myself',\n",
       " 'Phew, for a minute there',\n",
       " 'I lost myself, I lost myself']"
      ]
     },
     "execution_count": 3,
     "metadata": {},
     "output_type": "execute_result"
    }
   ],
   "source": [
    "dataset['train']['text'][1].split('\\n')"
   ]
  },
  {
   "cell_type": "code",
   "execution_count": 4,
   "id": "dee7980c",
   "metadata": {},
   "outputs": [],
   "source": [
    "text = dataset['train']['text'][1].split('\\n')"
   ]
  },
  {
   "cell_type": "code",
   "execution_count": 5,
   "id": "f350da7f",
   "metadata": {},
   "outputs": [],
   "source": [
    "for t in dataset['train']['text']:\n",
    "    text += t.split('\\n')"
   ]
  },
  {
   "cell_type": "code",
   "execution_count": 6,
   "id": "a2884927",
   "metadata": {
    "scrolled": true
   },
   "outputs": [
    {
     "name": "stdout",
     "output_type": "stream",
     "text": [
      "I lost myself, I lost myself, I lost myself\n",
      "Genie let out of town\n",
      "Dancing for your mistake\n",
      "Blink your eyes, you realize youre looking in, looking in the next world war\n",
      "The pillar of my bed\n",
      "Never want to die\n",
      "Im trying to get yourself away\n",
      "And this is only halfway\n"
     ]
    }
   ],
   "source": [
    "import markovify\n",
    "\n",
    "# Get raw text as string.\n",
    "# with open(\"/path/to/my/corpus.txt\") as f:\n",
    "#     text = f.read()\n",
    "\n",
    "# Build the model.\n",
    "text_model = markovify.Text(text)\n",
    "\n",
    "# Print five randomly-generated sentences\n",
    "for i in range(5):\n",
    "    print(text_model.make_sentence())\n",
    "\n",
    "# Print three randomly-generated sentences of no more than 280 characters\n",
    "for i in range(3):\n",
    "    print(text_model.make_short_sentence(280))"
   ]
  },
  {
   "cell_type": "code",
   "execution_count": 7,
   "id": "cf7a4896",
   "metadata": {},
   "outputs": [],
   "source": [
    "generated = []"
   ]
  },
  {
   "cell_type": "code",
   "execution_count": 10,
   "id": "5f50f93d",
   "metadata": {
    "scrolled": true
   },
   "outputs": [
    {
     "data": {
      "text/plain": [
       "'And as the drinks arrive'"
      ]
     },
     "execution_count": 10,
     "metadata": {},
     "output_type": "execute_result"
    }
   ],
   "source": [
    "text_model.make_short_sentence(280)"
   ]
  },
  {
   "cell_type": "code",
   "execution_count": 11,
   "id": "527f97aa",
   "metadata": {},
   "outputs": [],
   "source": [
    "for i in range(10000):\n",
    "    generated.append(text_model.make_short_sentence(280))"
   ]
  },
  {
   "cell_type": "code",
   "execution_count": 12,
   "id": "41323969",
   "metadata": {},
   "outputs": [
    {
     "data": {
      "text/plain": [
       "10000"
      ]
     },
     "execution_count": 12,
     "metadata": {},
     "output_type": "execute_result"
    }
   ],
   "source": [
    "len(generated)"
   ]
  },
  {
   "cell_type": "code",
   "execution_count": 14,
   "id": "04b606e0",
   "metadata": {},
   "outputs": [],
   "source": [
    "with open('gen_markov.txt', 'w') as f:\n",
    "    for line in generated:\n",
    "        f.write(line)\n",
    "        f.write('\\n')"
   ]
  }
 ],
 "metadata": {
  "kernelspec": {
   "display_name": "Python 3",
   "language": "python",
   "name": "python3"
  },
  "language_info": {
   "codemirror_mode": {
    "name": "ipython",
    "version": 3
   },
   "file_extension": ".py",
   "mimetype": "text/x-python",
   "name": "python",
   "nbconvert_exporter": "python",
   "pygments_lexer": "ipython3",
   "version": "3.9.12 (main, Mar 26 2022, 15:52:10) \n[Clang 13.0.0 (clang-1300.0.29.30)]"
  },
  "vscode": {
   "interpreter": {
    "hash": "aee8b7b246df8f9039afb4144a1f6fd8d2ca17a180786b69acc140d282b71a49"
   }
  }
 },
 "nbformat": 4,
 "nbformat_minor": 5
}
